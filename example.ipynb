{
 "cells": [
  {
   "cell_type": "code",
   "execution_count": 1,
   "metadata": {},
   "outputs": [
    {
     "name": "stdout",
     "output_type": "stream",
     "text": [
      "=> loading pretrained model https://download.pytorch.org/models/resnet50-19c8e357.pth\n"
     ]
    }
   ],
   "source": [
    "from coordinates_extractor import *\n",
    "from math_transformation import *\n",
    "import time"
   ]
  },
  {
   "cell_type": "code",
   "execution_count": 2,
   "metadata": {},
   "outputs": [
    {
     "name": "stdout",
     "output_type": "stream",
     "text": [
      "1.585500717163086\n"
     ]
    }
   ],
   "source": [
    "image_names = ['images/te.jpg','images/image.jpg','images/inst2.jpg','images/p.jpg','images/ttt.jpg','images/im1.png']\n",
    "\n",
    "\n",
    "start = time.time()\n",
    "for image_name in image_names:\n",
    "    coords = coords_create(image_name)\n",
    "    angles = human_angles(coords)\n",
    "    \n",
    "end = time.time()\n",
    "print(end-start)"
   ]
  },
  {
   "cell_type": "code",
   "execution_count": 3,
   "metadata": {},
   "outputs": [
    {
     "data": {
      "text/plain": [
       "{'right_ankle': array([ 0.09375   ,  0.484375  , -0.02053103], dtype=float32),\n",
       " 'right_knee': array([ 0.109375  ,  0.234375  , -0.03490998], dtype=float32),\n",
       " 'right_hip': array([ 0.        ,  0.015625  , -0.06885543], dtype=float32),\n",
       " 'left_hip': array([-0.015625  , -0.015625  ,  0.07386808], dtype=float32),\n",
       " 'left_knee': array([0.015625  , 0.234375  , 0.13695902], dtype=float32),\n",
       " 'left_ankle': array([-0.109375  ,  0.46875   ,  0.15908465], dtype=float32),\n",
       " 'ass': array([0., 0., 0.], dtype=float32),\n",
       " 'chest': array([-0.0625    , -0.125     , -0.02857985], dtype=float32),\n",
       " 'neck': array([-0.0625    , -0.265625  , -0.06796391], dtype=float32),\n",
       " 'head': array([-0.015625  , -0.359375  , -0.08777788], dtype=float32),\n",
       " 'right_wrist': array([ 0.046875  , -0.046875  , -0.14008698], dtype=float32),\n",
       " 'right_elbow': array([-0.0625   , -0.0625   , -0.1819725], dtype=float32),\n",
       " 'right_shoulder': array([-0.078125  , -0.21875   , -0.12993619], dtype=float32),\n",
       " 'left_shoulder': array([-0.0625    , -0.265625  ,  0.01864257], dtype=float32),\n",
       " 'left_elbow': array([-0.03125   , -0.15625   ,  0.13656503], dtype=float32),\n",
       " 'left_wrist': array([ 0.046875  , -0.125     ,  0.04934324], dtype=float32)}"
      ]
     },
     "execution_count": 3,
     "metadata": {},
     "output_type": "execute_result"
    }
   ],
   "source": [
    "coords"
   ]
  },
  {
   "cell_type": "code",
   "execution_count": 4,
   "metadata": {},
   "outputs": [
    {
     "data": {
      "text/plain": [
       "{'left_shoulder': -275.3257406247677,\n",
       " 'right_shoulder': -77.27564431457762,\n",
       " 'left_elbow': -52.25319461272533,\n",
       " 'right_elbow': -76.15930450834438,\n",
       " 'left_hip_body': 3.494638927253337,\n",
       " 'right_hip_body': -8.130102354155978,\n",
       " 'left_knee': 35.19750328475475,\n",
       " 'right_knee': 30.141385552075338,\n",
       " 'head': 10.750970470599361}"
      ]
     },
     "execution_count": 4,
     "metadata": {},
     "output_type": "execute_result"
    }
   ],
   "source": [
    "angles"
   ]
  },
  {
   "cell_type": "code",
   "execution_count": null,
   "metadata": {},
   "outputs": [],
   "source": []
  }
 ],
 "metadata": {
  "kernelspec": {
   "display_name": "Python 3",
   "language": "python",
   "name": "python3"
  },
  "language_info": {
   "codemirror_mode": {
    "name": "ipython",
    "version": 3
   },
   "file_extension": ".py",
   "mimetype": "text/x-python",
   "name": "python",
   "nbconvert_exporter": "python",
   "pygments_lexer": "ipython3",
   "version": "3.7.6"
  }
 },
 "nbformat": 4,
 "nbformat_minor": 4
}
